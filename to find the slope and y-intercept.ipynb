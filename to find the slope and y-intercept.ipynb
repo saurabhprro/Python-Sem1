{
 "cells": [
  {
   "cell_type": "code",
   "execution_count": null,
   "metadata": {},
   "outputs": [],
   "source": [
    "a1=int(input(\"enter the first coordinate\"))\n",
    "b1=int(input(\"enter the second coordinate\"))\n",
    "a2=int(input(\"enter the first coordinates\"))\n",
    "b2=int(input(\"enter the second coordinate\"))\n",
    "\n",
    "\n",
    "\n",
    "\n",
    "#as per our basic understanding of straight line\n",
    "#for the y-intercept \n",
    "\n",
    "if a1==a2:\n",
    "    print(\"slope is not defined and there is no y intercept\")\n",
    "else:\n",
    "    m=( b2-b1)/(a2-a1)\n",
    "    print(\"slope and y intercept are respectvely;\" ,( b2-b1)/(a2-a1) ,-m*a1+b1) "
   ]
  }
 ],
 "metadata": {
  "language_info": {
   "name": "python"
  },
  "orig_nbformat": 4
 },
 "nbformat": 4,
 "nbformat_minor": 2
}
