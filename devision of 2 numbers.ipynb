{
 "cells": [
  {
   "cell_type": "code",
   "execution_count": null,
   "metadata": {},
   "outputs": [],
   "source": [
    "#find a/b and b could be zero\n",
    "a=int(input(\"input first number;\"))\n",
    "b=int(input(\"input second number;\"))\n",
    "devision=a/b\n",
    "if b>0:\n",
    "    print(\"not define\")\n",
    "else:\n",
    "    print(\"devision is ;\", devision)\n"
   ]
  }
 ],
 "metadata": {
  "language_info": {
   "name": "python"
  },
  "orig_nbformat": 4
 },
 "nbformat": 4,
 "nbformat_minor": 2
}
